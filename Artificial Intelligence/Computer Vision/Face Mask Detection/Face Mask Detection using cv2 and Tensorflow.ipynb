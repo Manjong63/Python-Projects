{
 "cells": [
  {
   "cell_type": "code",
   "execution_count": null,
   "metadata": {},
   "outputs": [],
   "source": [
    "'''\n",
    "1. BASE is base directory i.e dir where data file resides. Inside data file we have train test and validation folder.\n",
    "2. Master folder name is the directory that have train,test and validaation folder\n",
    "2. target is a list of all the labels\n",
    "3. data_map={'filename':code}, filename is the name of directory used for label and \n",
    "                                'code' is the code for target.\n",
    "'''\n",
    "target = []\n",
    "data = []\n",
    "data_map = {\n",
    "    'f2_test':1,\n",
    "    'f1_test':0\n",
    "}\n",
    "\n",
    "BASE = r\"C:\\Users\\Brothers\\Desktop\"\n",
    "MASTER_FOLDER_NAME = 'f1'\n",
    "HAAR_CASCADE_PATH = r'haarcascade_frontalface_default.xml'\n",
    "\n",
    "MAIN_DIR = os.listdir(os.path.join(BASE, MASTER_FOLDER_NAME))\n",
    "\n",
    "for i in MAIN_DIR:\n",
    "    train_test_base = os.path.join(BASE, MASTER_FOLDER_NAME, i)\n",
    "    train_test_dir = os.listdir(train_test_base)\n",
    "    for j in train_test_dir:\n",
    "        all_img_path = os.path.join(train_test_base, j)\n",
    "        all_img = os.listdir(all_img_path)\n",
    "        for k in all_img:\n",
    "            image_path = os.path.join(all_img_path, k)\n",
    "            image = cv2.imread(image_path, cv2.IMREAD_GRAYSCALE)\n",
    "            classifier = cv2.CascadeClassifier(HAAR_CASCADE_PATH)\n",
    "            rect = classifier.detectMultiScale(image)\n",
    "            for x,y,w,h in rect:\n",
    "                image = image[y:y+h, x:x+w]\n",
    "            data.append(image)\n",
    "            target.append(data_map[j])"
   ]
  }
 ],
 "metadata": {
  "kernelspec": {
   "display_name": "Python 3",
   "language": "python",
   "name": "python3"
  },
  "language_info": {
   "codemirror_mode": {
    "name": "ipython",
    "version": 3
   },
   "file_extension": ".py",
   "mimetype": "text/x-python",
   "name": "python",
   "nbconvert_exporter": "python",
   "pygments_lexer": "ipython3",
   "version": "3.7.6"
  }
 },
 "nbformat": 4,
 "nbformat_minor": 4
}
