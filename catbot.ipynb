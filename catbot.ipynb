{
 "cells": [
  {
   "cell_type": "markdown",
   "metadata": {},
   "source": [
    "tell me more function after a task is completed\n",
    "\n",
    "skip welcome function every time if user want"
   ]
  },
  {
   "cell_type": "code",
   "execution_count": 1,
   "metadata": {},
   "outputs": [],
   "source": [
    "# import function\n",
    "def import_func():\n",
    "    import os\n",
    "    import base64"
   ]
  },
  {
   "cell_type": "code",
   "execution_count": 2,
   "metadata": {},
   "outputs": [],
   "source": [
    "# 0\n",
    "#this function will give time between two consecutive message\n",
    "def loop:\n",
    "    t=0\n",
    "    while t<3999999:\n",
    "        pass\n",
    "        t=t+1"
   ]
  },
  {
   "cell_type": "code",
   "execution_count": 6,
   "metadata": {},
   "outputs": [],
   "source": [
    "#main fuction\n",
    "def welcome():\n",
    "    \n",
    "    #intial welcome\n",
    "    print(\" Hi! I am Pybot\")\n",
    "    loop()\n",
    "    \n",
    "    #taking user name\n",
    "    while True:\n",
    "        try:\n",
    "            name=input(\" What's yours: \")\n",
    "        except ValueError:\n",
    "            pass\n",
    "        else:\n",
    "            if name.isalpha()==True:\n",
    "                print(f\" Hi {name}\")\n",
    "                break\n",
    "            else:\n",
    "                print(\" I can't get your name\")\n",
    "                continue\n",
    "    #fuction call\n",
    "    helpu()\n",
    "# here we can get introduced"
   ]
  },
  {
   "cell_type": "code",
   "execution_count": 7,
   "metadata": {},
   "outputs": [],
   "source": [
    "# sub-function for {welcome}\n",
    "# menu expl(explain) fuction\n",
    "def menuexpl():\n",
    "    loop()\n",
    "    print(\" I can calculate, do a web search, encrypt your confidential texts or messages also I will tell you about the whole world and I can truely make you laugh\")"
   ]
  },
  {
   "cell_type": "code",
   "execution_count": 8,
   "metadata": {},
   "outputs": [],
   "source": [
    "# sub-fuction of {welcome}\n",
    "# giving menu to the user\n",
    "def helpu():\n",
    "    loop()\n",
    "    print(\" I am your assistant\")\n",
    "    loop()\n",
    "    print(\" Let me tell you what can I do for you\")\n",
    "    menuexpl()"
   ]
  },
  {
   "cell_type": "code",
   "execution_count": 9,
   "metadata": {},
   "outputs": [],
   "source": [
    "# sub-function of {encrypt}\n",
    "# it will take input from user and encode it \n",
    "def encode():\n",
    "    loop()\n",
    "    #taking input for encoding\n",
    "    text=input(\"Enter what to be encrypted: \")\n",
    "    text=text+\"|||\"\n",
    "    # encoding\n",
    "    encoded=base64.b64encode(bytes(text,'utf-8'))\n",
    "     # writing text in it\n",
    "    encoded_text=open(\"E:\\\\PROJ.RC\\\\python\\\\pyBot\\\\enc_files\\\\enc.txt\", mode='b+a')\n",
    "    encoded_text.write(encoded) \n",
    "    encoded_text.close()"
   ]
  },
  {
   "cell_type": "code",
   "execution_count": 14,
   "metadata": {},
   "outputs": [],
   "source": [
    "# sub-function of {encryption}\n",
    "# directory check for encrypted file\n",
    "def encrypt():\n",
    "    try:\n",
    "        # creating new directory or checking if file exist or not\n",
    "        os.path.exists(\"E:\\\\PROJ.RC\\\\python\\\\pyBot\\\\enc_files\")\n",
    "         #if file exist if will run except code\n",
    "    except IOError:\n",
    "        #if file exist call encode function\n",
    "        encode()    \n",
    "    else: \n",
    "        # otherwise (if there is no exception then it meas that file do not exist so create new file and call encode function)\n",
    "            loop()\n",
    "            print(\" Directory does not exist\")\n",
    "            os.makedirs(\"E:\\\\PROJ.RC\\\\python\\\\pyBot\\\\enc_files\")\n",
    "            loop()\n",
    "            print(\" Created new file\")        \n",
    "    encode()"
   ]
  },
  {
   "cell_type": "code",
   "execution_count": 20,
   "metadata": {},
   "outputs": [],
   "source": [
    "# menu==?encryption\n",
    "def encryption():\n",
    "    loop()\n",
    "    while True:\n",
    "        o=input(\" How do you want to proceed\\n (W)Encrypt text\\n (S)Show encrypted text: \\n\")\n",
    "        if o=='w' or o=='W':\n",
    "            encrypt()\n",
    "            break # tell me more function\n",
    "        elif o=='S' or o=='s':\n",
    "            decrypt()\n",
    "            break #tell me more function\n",
    "        else:\n",
    "            print(\" I can't get it\")\n",
    "            continue"
   ]
  },
  {
   "cell_type": "code",
   "execution_count": 21,
   "metadata": {},
   "outputs": [],
   "source": [
    "# sub-function for encryption \n",
    "def decrypt():\n",
    "    print(\" Your datas are seperated by '|||' symbol\")\n",
    "    read=open(\"E:\\\\PROJ.RC\\\\python\\\\pyBot\\\\enc_files\\\\enc.txt\", mode='r')\n",
    "    read=read.read()\n",
    "    read=base64.b64decode(bytes(read,'utf-8'))\n",
    "    print(read)"
   ]
  },
  {
   "cell_type": "code",
   "execution_count": 4,
   "metadata": {},
   "outputs": [],
   "source": [
    "# menu=?calculator \n",
    "#only addition is allowed\n",
    "def calc():\n",
    "    loop()\n",
    "    while True:\n",
    "        o=input(\" Which operation do you want to proceed\\n (+)Sum\\n (-)Subtraction\\n (*)multiplication\\n (/)Division\\n (p)Exponent\")\n",
    "        if o==\"+\":\n",
    "            operand=int(input(\"How many operands do you want to proceed with: \"))\n",
    "            for i in range(operand):\n",
    "                operand.append(int(input()))\n",
    "                add=0\n",
    "                add=operand[i]+add\n",
    "            print(f\"Summation is {add}\")\n",
    "            \n",
    "        if o==\"-\":\n",
    "            try:\n",
    "                ope:int(input(\"Enter operand a(a>b)\"))\n",
    "                op:int(input(\"Enter operand b(a>b)\"))\n",
    "            except TypeError:\n",
    "                print(\"Type error\")\n",
    "                continue\n",
    "            else:\n",
    "                sub=ope-op\n",
    "                print(sub)\n",
    "        #multiply\n",
    "        if o==\"*\":\n",
    "            try:\n",
    "                ope:int(input(\"Enter operand 1= \"))\n",
    "                op:int(input(\"Enter operand 2= \"))\n",
    "            except TypeError:\n",
    "                print(\"Type error\")\n",
    "                continue\n",
    "            else:\n",
    "                mul=ope*op\n",
    "                print(mul)\n",
    "        #divide\n",
    "        if o==\"/\":\n",
    "            try:\n",
    "                ope:int(input(\"Enter neumerator= \"))\n",
    "                op:int(input(\"Enter divisor= \"))\n",
    "            except TypeError:\n",
    "                print(\"Type error\")\n",
    "                continue\n",
    "            else:\n",
    "                div=ope/op\n",
    "                print(div)\n",
    "        #exponent\n",
    "        if o==\"p\":\n",
    "            try:\n",
    "                ope:int(input(\"Enter operand 1= \"))\n",
    "                op:int(input(\"Enter operand 2= \"))\n",
    "            except TypeError:\n",
    "                print(\"Type error\")\n",
    "                continue\n",
    "            else:\n",
    "                ex=ope**op\n",
    "                print(ex)             \n",
    "        else:\n",
    "            print(\"wrong input\")\n",
    "            continue"
   ]
  },
  {
   "cell_type": "markdown",
   "metadata": {},
   "source": [
    "user can ask:\n",
    "who are you|||\n",
    "who made you|||\n",
    "in which language you have been written|||\n",
    "when you have created|||\n",
    "whats you name|||\n",
    "who gave you name|||\n",
    "hi|||\n",
    "hello|||\n",
    "what are you doing|||\n"
   ]
  },
  {
   "cell_type": "code",
   "execution_count": 1,
   "metadata": {},
   "outputs": [],
   "source": [
    "def menu():\n",
    "    loop()\n",
    "    while True:\n",
    "        x=input(\" So what do you want to do: \\n (C)Open  Calculator\\n (E)Encrypted vaults: \")\n",
    "        if x==\"C\" or x==\"c\":\n",
    "            cacl()\n",
    "            break\n",
    "        elif x==\"E\" or x==\"e\":\n",
    "            encrypt()\n",
    "            break\n",
    "        else:\n",
    "            print(\" Wrong input\")\n",
    "            continue"
   ]
  },
  {
   "cell_type": "code",
   "execution_count": null,
   "metadata": {},
   "outputs": [],
   "source": []
  }
 ],
 "metadata": {
  "kernelspec": {
   "display_name": "Python 3",
   "language": "python",
   "name": "python3"
  },
  "language_info": {
   "codemirror_mode": {
    "name": "ipython",
    "version": 3
   },
   "file_extension": ".py",
   "mimetype": "text/x-python",
   "name": "python",
   "nbconvert_exporter": "python",
   "pygments_lexer": "ipython3",
   "version": "3.7.1"
  }
 },
 "nbformat": 4,
 "nbformat_minor": 2
}
